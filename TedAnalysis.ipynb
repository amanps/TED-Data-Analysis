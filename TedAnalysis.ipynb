{
 "cells": [
  {
   "cell_type": "code",
   "execution_count": null,
   "metadata": {
    "collapsed": true
   },
   "outputs": [],
   "source": [
    "%matplotlib inline\n",
    "import pandas as pd\n",
    "import ast\n",
    "ted = pd.read_csv(\"ted_main.csv\")"
   ]
  },
  {
   "cell_type": "code",
   "execution_count": null,
   "metadata": {},
   "outputs": [],
   "source": [
    "ted.head()"
   ]
  },
  {
   "cell_type": "code",
   "execution_count": null,
   "metadata": {},
   "outputs": [],
   "source": [
    "ted.describe()"
   ]
  },
  {
   "cell_type": "code",
   "execution_count": null,
   "metadata": {},
   "outputs": [],
   "source": [
    "ted[\"views\"].mean()"
   ]
  },
  {
   "cell_type": "code",
   "execution_count": null,
   "metadata": {},
   "outputs": [],
   "source": [
    "ted.corr()"
   ]
  },
  {
   "cell_type": "code",
   "execution_count": null,
   "metadata": {},
   "outputs": [],
   "source": [
    "# Total count for each rating. Most talks pick up the inspiring rating.\n",
    "\n",
    "import operator\n",
    "ratings = {}\n",
    "for index, rating_str in ted[\"ratings\"].iteritems():\n",
    "    ratings_list = ast.literal_eval(rating_str)\n",
    "    for rating in ratings_list:\n",
    "        ratings[rating[\"name\"]] = ratings.get(rating[\"name\"], 0) + rating[\"count\"]\n",
    "for i in sorted(ratings.items(), key=operator.itemgetter(1)):\n",
    "    print(i)"
   ]
  },
  {
   "cell_type": "code",
   "execution_count": null,
   "metadata": {
    "collapsed": true
   },
   "outputs": [],
   "source": [
    "# Adding columns with counts for all ratings for a talk.\n",
    "\n",
    "ratings_df = ted.copy()\n",
    "ratings_list = ratings.keys()\n",
    "for rating in ratings_list:\n",
    "    ratings_df[rating] = 0"
   ]
  },
  {
   "cell_type": "code",
   "execution_count": null,
   "metadata": {},
   "outputs": [],
   "source": [
    "# Speakers with more than 1 talk.\n",
    "\n",
    "import operator\n",
    "name_dict = {}\n",
    "for name in ted[\"main_speaker\"].iteritems():\n",
    "    name_dict[name[1]] = name_dict.get(name[1], 0) + 1\n",
    "count = 0\n",
    "for k in sorted(name_dict.items(), key = operator.itemgetter(1)):\n",
    "    if k[1] > 1:\n",
    "        print (\"%s - %s\" % (k[0], k[1]))"
   ]
  },
  {
   "cell_type": "code",
   "execution_count": null,
   "metadata": {
    "scrolled": true
   },
   "outputs": [],
   "source": [
    "# Set of all tags\n",
    "\n",
    "tag_set = set()\n",
    "for tag_str in ted[\"tags\"]:\n",
    "    tag_list = ast.literal_eval(tag_str)\n",
    "    for tag in tag_list:\n",
    "        tag_set.add(tag)\n",
    "print(tag_set)"
   ]
  },
  {
   "cell_type": "code",
   "execution_count": null,
   "metadata": {},
   "outputs": [],
   "source": [
    "# Print tags per talk of speaker.\n",
    "\n",
    "def print_tags_for_speaker(speaker):\n",
    "    rosling = ted[ted[\"main_speaker\"] == speaker]\n",
    "    tag_set = []\n",
    "    for tag_str in rosling[\"tags\"]:\n",
    "        tag_list = ast.literal_eval(tag_str)\n",
    "        tag_set.append(tag_list)\n",
    "    print(tag_set)\n",
    "\n",
    "print_tags_for_speaker(\"Hans Rosling\")\n",
    "# print_tags_for_speaker(\"Juan Enriquez\")"
   ]
  },
  {
   "cell_type": "code",
   "execution_count": null,
   "metadata": {},
   "outputs": [],
   "source": [
    "# Most viewed talks.\n",
    "\n",
    "most_viewed = ted[[\"title\", \"main_speaker\", \"views\"]].sort_values(\"views\", ascending=False)\n",
    "most_viewed.head()"
   ]
  },
  {
   "cell_type": "code",
   "execution_count": null,
   "metadata": {},
   "outputs": [],
   "source": [
    "# Most commented on talks\n",
    "\n",
    "most_commented = ted[[\"title\", \"main_speaker\", \"views\", \"comments\"]].sort_values(\"comments\", ascending=False)\n",
    "most_commented.head()"
   ]
  },
  {
   "cell_type": "code",
   "execution_count": null,
   "metadata": {},
   "outputs": [],
   "source": [
    "# There doesn't seem to be any correlation between views and comments. The top viewed TED talk is not the top commented \n",
    "# inspite of having 10 times more views than the top commented one \"Militant Atheism\".\n",
    "\n",
    "ted.plot(x = \"views\", y = \"comments\", kind = \"scatter\")"
   ]
  },
  {
   "cell_type": "code",
   "execution_count": null,
   "metadata": {},
   "outputs": [],
   "source": [
    "# We observe that views and languages are slightly positively correlated 0.3, TED talks with more than 10 million \n",
    "# have atleast 28 languages\n",
    "\n",
    "ted.plot(x = \"views\", y = \"languages\", kind = \"scatter\")\n",
    "ted[ted[\"views\"] > 10000000].languages.sort_values().head(1)"
   ]
  },
  {
   "cell_type": "code",
   "execution_count": null,
   "metadata": {
    "collapsed": true,
    "scrolled": true
   },
   "outputs": [],
   "source": [
    "# Each rating with the associated score for each talk normalized over the number of views. \n",
    "\n",
    "def populate_ratings():\n",
    "    for index, rating_str in ratings_df[\"ratings\"].iteritems():\n",
    "        max_rating = -1\n",
    "        ratings_list = ast.literal_eval(rating_str)\n",
    "        for rating in ratings_list:\n",
    "            ratings_df.loc[index, rating[\"name\"]] = rating[\"count\"] / ted.iloc[index][\"views\"]\n",
    "populate_ratings()"
   ]
  },
  {
   "cell_type": "code",
   "execution_count": null,
   "metadata": {},
   "outputs": [],
   "source": [
    "display_list = [\"title\", \"main_speaker\"] + list(ratings_list)\n",
    "ratings_df[display_list].head()"
   ]
  },
  {
   "cell_type": "code",
   "execution_count": null,
   "metadata": {},
   "outputs": [],
   "source": [
    "from IPython.display import display\n",
    "for rating in ratings_list:\n",
    "    display(ratings_df.sort_values(by = rating, ascending = False)[[\"title\", rating, \"views\"]].head(5))\n",
    "    \n",
    "# This gives us a more accurate description of whether the talk was funny/inspiring etc. This is per user how many \n",
    "# people found it funny as opposed to overall coz it may be biased for a talk with more views."
   ]
  },
  {
   "cell_type": "code",
   "execution_count": null,
   "metadata": {
    "scrolled": true
   },
   "outputs": [],
   "source": [
    "ratings_df[list(ratings_list)].corr()"
   ]
  },
  {
   "cell_type": "code",
   "execution_count": null,
   "metadata": {
    "scrolled": true
   },
   "outputs": [],
   "source": [
    "from pandas.plotting import scatter_matrix\n",
    "scatter_matrix(ratings_df[list(ratings_list)], alpha=0.2, figsize=(14, 14), diagonal='kde')\n",
    "\n",
    "# We were expecting positive correlation between some ratings which we were able to verify. \n",
    "# Didn't seem to find any negative correlation which was surprising."
   ]
  }
 ],
 "metadata": {
  "kernelspec": {
   "display_name": "Python 3",
   "language": "python",
   "name": "python3"
  },
  "language_info": {
   "codemirror_mode": {
    "name": "ipython",
    "version": 3
   },
   "file_extension": ".py",
   "mimetype": "text/x-python",
   "name": "python",
   "nbconvert_exporter": "python",
   "pygments_lexer": "ipython3",
   "version": "3.6.3"
  }
 },
 "nbformat": 4,
 "nbformat_minor": 2
}
